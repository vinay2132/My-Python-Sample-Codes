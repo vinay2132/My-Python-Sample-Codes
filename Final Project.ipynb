{
 "cells": [
  {
   "cell_type": "markdown",
   "id": "79bae138",
   "metadata": {},
   "source": [
    "# Final Project: Data Science Notebook"
   ]
  },
  {
   "cell_type": "markdown",
   "id": "52e0c36e",
   "metadata": {},
   "source": [
    "## Introduction  \n",
    "This notebook demonstrates the fundamentals of Data Science, including key languages, libraries, tools, and basic operations.  \n"
   ]
  },
  {
   "cell_type": "markdown",
   "id": "c89e32d4",
   "metadata": {},
   "source": [
    "## Data Science Languages  \n",
    "- Python  \n",
    "- R  \n",
    "- SQL  \n",
    "- Java  \n",
    "- Julia  \n"
   ]
  },
  {
   "cell_type": "markdown",
   "id": "d3247d6b",
   "metadata": {},
   "source": [
    "## Data Science Libraries  \n",
    "- NumPy  \n",
    "- Pandas  \n",
    "- Matplotlib  \n",
    "- Seaborn  \n",
    "- TensorFlow  \n",
    "- PyTorch  \n",
    "- Scikit-learn  "
   ]
  },
  {
   "cell_type": "markdown",
   "id": "cb3fb32a",
   "metadata": {},
   "source": [
    "## Data Science Tools  \n",
    "\n",
    "| Tool             | Description                       |  \n",
    "|------------------|-----------------------------------|  \n",
    "| Jupyter Notebook | Interactive computing environment |  \n",
    "| RStudio          | IDE for R programming             |  \n",
    "| Tableau          | Data visualization tool           |  \n"
   ]
  },
  {
   "cell_type": "markdown",
   "id": "ba634ed0",
   "metadata": {},
   "source": [
    "## Arithmetic Expression Examples  \n",
    "Examples include addition, subtraction, multiplication, and division.  \n"
   ]
  },
  {
   "cell_type": "code",
   "execution_count": 1,
   "id": "e6bd9269",
   "metadata": {},
   "outputs": [
    {
     "data": {
      "text/plain": [
       "30"
      ]
     },
     "execution_count": 1,
     "metadata": {},
     "output_type": "execute_result"
    }
   ],
   "source": [
    "# Example: Multiply and Add Numbers  \n",
    "x = 5 * 4  \n",
    "y = x + 10  \n",
    "y  \n"
   ]
  },
  {
   "cell_type": "code",
   "execution_count": 2,
   "id": "b06b1261",
   "metadata": {},
   "outputs": [
    {
     "data": {
      "text/plain": [
       "2.0"
      ]
     },
     "execution_count": 2,
     "metadata": {},
     "output_type": "execute_result"
    }
   ],
   "source": [
    "# Example: Convert Minutes to Hours  \n",
    "minutes = 120  \n",
    "hours = minutes / 60  \n",
    "hours  \n"
   ]
  },
  {
   "cell_type": "markdown",
   "id": "9ba95aac",
   "metadata": {},
   "source": [
    "## Objectives  \n",
    "- Understand key components of Data Science  \n",
    "- Demonstrate Markdown and Code cell usage  \n",
    "- Perform basic operations in Python  \n"
   ]
  },
  {
   "cell_type": "markdown",
   "id": "c92bed88",
   "metadata": {},
   "source": [
    "## Author  \n",
    "Daram Vinay  \n"
   ]
  }
 ],
 "metadata": {
  "kernelspec": {
   "display_name": "Python 3 (ipykernel)",
   "language": "python",
   "name": "python3"
  },
  "language_info": {
   "codemirror_mode": {
    "name": "ipython",
    "version": 3
   },
   "file_extension": ".py",
   "mimetype": "text/x-python",
   "name": "python",
   "nbconvert_exporter": "python",
   "pygments_lexer": "ipython3",
   "version": "3.10.9"
  }
 },
 "nbformat": 4,
 "nbformat_minor": 5
}
